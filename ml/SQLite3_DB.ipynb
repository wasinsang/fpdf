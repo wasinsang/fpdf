{
  "nbformat": 4,
  "nbformat_minor": 0,
  "metadata": {
    "colab": {
      "name": "SQLite3_DB.ipynb",
      "provenance": [],
      "collapsed_sections": [],
      "toc_visible": true
    },
    "kernelspec": {
      "name": "python3",
      "display_name": "Python 3"
    }
  },
  "cells": [
    {
      "cell_type": "markdown",
      "metadata": {
        "id": "dHaT0qjDVhjX"
      },
      "source": [
        "# Intro"
      ]
    },
    {
      "cell_type": "code",
      "metadata": {
        "id": "3xzFcTDJQZ5D",
        "colab": {
          "base_uri": "https://localhost:8080/"
        },
        "outputId": "cf0eb483-8a7a-4e44-a3b1-a494ccec3e9e"
      },
      "source": [
        "!pip install db-sqlite3"
      ],
      "execution_count": 49,
      "outputs": [
        {
          "output_type": "stream",
          "text": [
            "Requirement already satisfied: db-sqlite3 in /usr/local/lib/python3.7/dist-packages (0.0.1)\n",
            "Requirement already satisfied: db in /usr/local/lib/python3.7/dist-packages (from db-sqlite3) (0.1.1)\n",
            "Requirement already satisfied: antiorm in /usr/local/lib/python3.7/dist-packages (from db->db-sqlite3) (1.2.1)\n"
          ],
          "name": "stdout"
        }
      ]
    },
    {
      "cell_type": "code",
      "metadata": {
        "id": "G6sqzP_tJIEe"
      },
      "source": [
        "import pandas as pd\n",
        "import sqlite3\n",
        "from datetime import date"
      ],
      "execution_count": 50,
      "outputs": []
    },
    {
      "cell_type": "code",
      "metadata": {
        "id": "mlehKdxUJSz-"
      },
      "source": [
        "#connecting with the database.\n",
        "db = sqlite3.connect(\"testing.db\")\n",
        "db.execute(\"drop table if exists results\")\n",
        "try:\n",
        "  db.execute(\"create table results(Name text, Date datetime, Mobile text,Mail text)\")\n",
        "except:\n",
        "  print(\"Already table existed !!\")"
      ],
      "execution_count": 51,
      "outputs": []
    },
    {
      "cell_type": "code",
      "metadata": {
        "id": "CMZAQq2UJdGM"
      },
      "source": [
        "db = sqlite3.connect(\"testing.db\")"
      ],
      "execution_count": 52,
      "outputs": []
    },
    {
      "cell_type": "code",
      "metadata": {
        "id": "6wWnSqtNKXUq"
      },
      "source": [
        "Date = date.today().strftime(\"%d-%m-%Y\")\n",
        "Name = \"TestDemo\"\n",
        "Mobile = \"9000011101\"\n",
        "Mail = \"teachineMachine1@you.com\""
      ],
      "execution_count": 53,
      "outputs": []
    },
    {
      "cell_type": "code",
      "metadata": {
        "id": "Hjz8_W4WJjH2"
      },
      "source": [
        "cmd = \"insert into results(Name, Mobile,Date,Mail) values('{}','{}','{}','{}')\".format(Name,Mobile,Date,Mail)\n",
        "db.execute(cmd)\n",
        "db.commit()"
      ],
      "execution_count": 54,
      "outputs": []
    },
    {
      "cell_type": "markdown",
      "metadata": {
        "id": "tc_glreoVTcB"
      },
      "source": [
        "# Querying"
      ]
    },
    {
      "cell_type": "markdown",
      "metadata": {
        "id": "eJG6fARCRihM"
      },
      "source": [
        "### Type - 1 Querying\n"
      ]
    },
    {
      "cell_type": "code",
      "metadata": {
        "id": "FB1zxYVmRnj2",
        "colab": {
          "base_uri": "https://localhost:8080/"
        },
        "outputId": "b74fa73a-5cd5-4260-969a-030cdab8401b"
      },
      "source": [
        "db = sqlite3.connect(\"testing.db\")\n",
        "rs = db.execute('SELECT * FROM results')\n",
        "\n",
        "for row in rs:\n",
        "    print (row)"
      ],
      "execution_count": 55,
      "outputs": [
        {
          "output_type": "stream",
          "text": [
            "('TestDemo', '29-05-2021', '9000011101', 'teachineMachine1@you.com')\n"
          ],
          "name": "stdout"
        }
      ]
    },
    {
      "cell_type": "markdown",
      "metadata": {
        "id": "gBb1T3W2R2T9"
      },
      "source": [
        "### Type - 2 Querying\n"
      ]
    },
    {
      "cell_type": "code",
      "metadata": {
        "id": "QsaSr2oJJpz8",
        "colab": {
          "base_uri": "https://localhost:8080/",
          "height": 80
        },
        "outputId": "b8828456-29c6-485e-cc95-47a3017f5476"
      },
      "source": [
        "db = sqlite3.connect(\"testing.db\")\n",
        "\n",
        "qry = \"\"\"\n",
        "\n",
        "SELECT * FROM results\n",
        "\n",
        "\"\"\"\n",
        "df = pd.read_sql_query(qry, db)\n",
        "df.head()"
      ],
      "execution_count": 56,
      "outputs": [
        {
          "output_type": "execute_result",
          "data": {
            "text/html": [
              "<div>\n",
              "<style scoped>\n",
              "    .dataframe tbody tr th:only-of-type {\n",
              "        vertical-align: middle;\n",
              "    }\n",
              "\n",
              "    .dataframe tbody tr th {\n",
              "        vertical-align: top;\n",
              "    }\n",
              "\n",
              "    .dataframe thead th {\n",
              "        text-align: right;\n",
              "    }\n",
              "</style>\n",
              "<table border=\"1\" class=\"dataframe\">\n",
              "  <thead>\n",
              "    <tr style=\"text-align: right;\">\n",
              "      <th></th>\n",
              "      <th>Name</th>\n",
              "      <th>Date</th>\n",
              "      <th>Mobile</th>\n",
              "      <th>Mail</th>\n",
              "    </tr>\n",
              "  </thead>\n",
              "  <tbody>\n",
              "    <tr>\n",
              "      <th>0</th>\n",
              "      <td>TestDemo</td>\n",
              "      <td>29-05-2021</td>\n",
              "      <td>9000011101</td>\n",
              "      <td>teachineMachine1@you.com</td>\n",
              "    </tr>\n",
              "  </tbody>\n",
              "</table>\n",
              "</div>"
            ],
            "text/plain": [
              "       Name        Date      Mobile                      Mail\n",
              "0  TestDemo  29-05-2021  9000011101  teachineMachine1@you.com"
            ]
          },
          "metadata": {
            "tags": []
          },
          "execution_count": 56
        }
      ]
    },
    {
      "cell_type": "code",
      "metadata": {
        "id": "kLlGBkZeJsSe"
      },
      "source": [
        ""
      ],
      "execution_count": 56,
      "outputs": []
    },
    {
      "cell_type": "markdown",
      "metadata": {
        "id": "DRgujp1WVJ5i"
      },
      "source": [
        "# Batch-wise data storage\n"
      ]
    },
    {
      "cell_type": "code",
      "metadata": {
        "id": "UYYvaXHvJQ6V"
      },
      "source": [
        "\n",
        "def pushtoDB(Name,Mobile,Mail):\n",
        "#inserting values inside the created table\n",
        "    db = sqlite3.connect(\"testing.db\")    \n",
        "    from datetime import date\n",
        "    Date = date.today().strftime(\"%d-%m-%Y\")\n",
        "    cmd = \"insert into results(Name, Mobile,Date,Mail) values('{}','{}','{}','{}')\".format(Name,Mobile,Date,Mail)\n",
        "    db.execute(cmd)\n",
        "    db.commit()"
      ],
      "execution_count": 57,
      "outputs": []
    },
    {
      "cell_type": "markdown",
      "metadata": {
        "id": "u2zImH0LSD7d"
      },
      "source": [
        "/content/dummy.csv"
      ]
    },
    {
      "cell_type": "code",
      "metadata": {
        "id": "YcK8SCDBNQN8",
        "colab": {
          "base_uri": "https://localhost:8080/",
          "height": 204
        },
        "outputId": "b50fe9db-a62f-4253-f0ac-3024a22abd99"
      },
      "source": [
        "data = pd.read_csv(\"dummy.csv\")   \n",
        "data.head()\n",
        "#data.shape"
      ],
      "execution_count": 58,
      "outputs": [
        {
          "output_type": "execute_result",
          "data": {
            "text/html": [
              "<div>\n",
              "<style scoped>\n",
              "    .dataframe tbody tr th:only-of-type {\n",
              "        vertical-align: middle;\n",
              "    }\n",
              "\n",
              "    .dataframe tbody tr th {\n",
              "        vertical-align: top;\n",
              "    }\n",
              "\n",
              "    .dataframe thead th {\n",
              "        text-align: right;\n",
              "    }\n",
              "</style>\n",
              "<table border=\"1\" class=\"dataframe\">\n",
              "  <thead>\n",
              "    <tr style=\"text-align: right;\">\n",
              "      <th></th>\n",
              "      <th>Name</th>\n",
              "      <th>Date</th>\n",
              "      <th>Mobile</th>\n",
              "      <th>Mail</th>\n",
              "    </tr>\n",
              "  </thead>\n",
              "  <tbody>\n",
              "    <tr>\n",
              "      <th>100</th>\n",
              "      <td>TestDemo</td>\n",
              "      <td>29-05-2021</td>\n",
              "      <td>9000011101</td>\n",
              "      <td>teachineMachine1@you.com</td>\n",
              "    </tr>\n",
              "    <tr>\n",
              "      <th>101</th>\n",
              "      <td>*****</td>\n",
              "      <td>29-05-2021</td>\n",
              "      <td>123456789</td>\n",
              "      <td>Machine1@you.com</td>\n",
              "    </tr>\n",
              "    <tr>\n",
              "      <th>102</th>\n",
              "      <td>*****</td>\n",
              "      <td>29-05-2021</td>\n",
              "      <td>123456789</td>\n",
              "      <td>Machine2@you.com</td>\n",
              "    </tr>\n",
              "    <tr>\n",
              "      <th>103</th>\n",
              "      <td>*****</td>\n",
              "      <td>29-05-2021</td>\n",
              "      <td>123456789</td>\n",
              "      <td>Machine3@you.com</td>\n",
              "    </tr>\n",
              "    <tr>\n",
              "      <th>104</th>\n",
              "      <td>*****</td>\n",
              "      <td>29-05-2021</td>\n",
              "      <td>123456789</td>\n",
              "      <td>Machine4@you.com</td>\n",
              "    </tr>\n",
              "  </tbody>\n",
              "</table>\n",
              "</div>"
            ],
            "text/plain": [
              "         Name        Date      Mobile                      Mail\n",
              "100  TestDemo  29-05-2021  9000011101  teachineMachine1@you.com\n",
              "101     *****  29-05-2021   123456789          Machine1@you.com\n",
              "102     *****  29-05-2021   123456789          Machine2@you.com\n",
              "103     *****  29-05-2021   123456789          Machine3@you.com\n",
              "104     *****  29-05-2021   123456789          Machine4@you.com"
            ]
          },
          "metadata": {
            "tags": []
          },
          "execution_count": 58
        }
      ]
    },
    {
      "cell_type": "code",
      "metadata": {
        "id": "RIQuoYbgN3NE"
      },
      "source": [
        "pushtoDB(\"Testttt\",\"121\",\"2112\")"
      ],
      "execution_count": 59,
      "outputs": []
    },
    {
      "cell_type": "code",
      "metadata": {
        "colab": {
          "base_uri": "https://localhost:8080/",
          "height": 204
        },
        "id": "5eRyDPsgSeF0",
        "outputId": "01b858d2-0edc-40be-8db2-62256694ee10"
      },
      "source": [
        "data.tail()"
      ],
      "execution_count": 60,
      "outputs": [
        {
          "output_type": "execute_result",
          "data": {
            "text/html": [
              "<div>\n",
              "<style scoped>\n",
              "    .dataframe tbody tr th:only-of-type {\n",
              "        vertical-align: middle;\n",
              "    }\n",
              "\n",
              "    .dataframe tbody tr th {\n",
              "        vertical-align: top;\n",
              "    }\n",
              "\n",
              "    .dataframe thead th {\n",
              "        text-align: right;\n",
              "    }\n",
              "</style>\n",
              "<table border=\"1\" class=\"dataframe\">\n",
              "  <thead>\n",
              "    <tr style=\"text-align: right;\">\n",
              "      <th></th>\n",
              "      <th>Name</th>\n",
              "      <th>Date</th>\n",
              "      <th>Mobile</th>\n",
              "      <th>Mail</th>\n",
              "    </tr>\n",
              "  </thead>\n",
              "  <tbody>\n",
              "    <tr>\n",
              "      <th>103</th>\n",
              "      <td>*****</td>\n",
              "      <td>29-05-2021</td>\n",
              "      <td>123456789</td>\n",
              "      <td>Machine3@you.com</td>\n",
              "    </tr>\n",
              "    <tr>\n",
              "      <th>104</th>\n",
              "      <td>*****</td>\n",
              "      <td>29-05-2021</td>\n",
              "      <td>123456789</td>\n",
              "      <td>Machine4@you.com</td>\n",
              "    </tr>\n",
              "    <tr>\n",
              "      <th>105</th>\n",
              "      <td>*****</td>\n",
              "      <td>29-05-2021</td>\n",
              "      <td>123456789</td>\n",
              "      <td>Machine5@you.com</td>\n",
              "    </tr>\n",
              "    <tr>\n",
              "      <th>106</th>\n",
              "      <td>*****</td>\n",
              "      <td>29-05-2021</td>\n",
              "      <td>123456789</td>\n",
              "      <td>Machine6@you.com</td>\n",
              "    </tr>\n",
              "    <tr>\n",
              "      <th>107</th>\n",
              "      <td>*****</td>\n",
              "      <td>29-05-2021</td>\n",
              "      <td>123456789</td>\n",
              "      <td>Machine7@you.com</td>\n",
              "    </tr>\n",
              "  </tbody>\n",
              "</table>\n",
              "</div>"
            ],
            "text/plain": [
              "      Name        Date     Mobile              Mail\n",
              "103  *****  29-05-2021  123456789  Machine3@you.com\n",
              "104  *****  29-05-2021  123456789  Machine4@you.com\n",
              "105  *****  29-05-2021  123456789  Machine5@you.com\n",
              "106  *****  29-05-2021  123456789  Machine6@you.com\n",
              "107  *****  29-05-2021  123456789  Machine7@you.com"
            ]
          },
          "metadata": {
            "tags": []
          },
          "execution_count": 60
        }
      ]
    },
    {
      "cell_type": "code",
      "metadata": {
        "id": "K0SVabEGOFMY",
        "colab": {
          "base_uri": "https://localhost:8080/",
          "height": 111
        },
        "outputId": "e5c4ad3a-b627-4df2-d8e4-3f5486032add"
      },
      "source": [
        "db = sqlite3.connect(\"testing.db\")\n",
        "qry = \"SELECT * FROM results\"\n",
        "df = pd.read_sql_query(qry, db)\n",
        "df.head()"
      ],
      "execution_count": 61,
      "outputs": [
        {
          "output_type": "execute_result",
          "data": {
            "text/html": [
              "<div>\n",
              "<style scoped>\n",
              "    .dataframe tbody tr th:only-of-type {\n",
              "        vertical-align: middle;\n",
              "    }\n",
              "\n",
              "    .dataframe tbody tr th {\n",
              "        vertical-align: top;\n",
              "    }\n",
              "\n",
              "    .dataframe thead th {\n",
              "        text-align: right;\n",
              "    }\n",
              "</style>\n",
              "<table border=\"1\" class=\"dataframe\">\n",
              "  <thead>\n",
              "    <tr style=\"text-align: right;\">\n",
              "      <th></th>\n",
              "      <th>Name</th>\n",
              "      <th>Date</th>\n",
              "      <th>Mobile</th>\n",
              "      <th>Mail</th>\n",
              "    </tr>\n",
              "  </thead>\n",
              "  <tbody>\n",
              "    <tr>\n",
              "      <th>0</th>\n",
              "      <td>TestDemo</td>\n",
              "      <td>29-05-2021</td>\n",
              "      <td>9000011101</td>\n",
              "      <td>teachineMachine1@you.com</td>\n",
              "    </tr>\n",
              "    <tr>\n",
              "      <th>1</th>\n",
              "      <td>Testttt</td>\n",
              "      <td>29-05-2021</td>\n",
              "      <td>121</td>\n",
              "      <td>2112</td>\n",
              "    </tr>\n",
              "  </tbody>\n",
              "</table>\n",
              "</div>"
            ],
            "text/plain": [
              "       Name        Date      Mobile                      Mail\n",
              "0  TestDemo  29-05-2021  9000011101  teachineMachine1@you.com\n",
              "1   Testttt  29-05-2021         121                      2112"
            ]
          },
          "metadata": {
            "tags": []
          },
          "execution_count": 61
        }
      ]
    },
    {
      "cell_type": "code",
      "metadata": {
        "colab": {
          "base_uri": "https://localhost:8080/",
          "height": 297
        },
        "id": "NqyNJIgZOhXY",
        "outputId": "95054702-7243-4fcd-ec7c-9bd4f1f5a574"
      },
      "source": [
        "data"
      ],
      "execution_count": 62,
      "outputs": [
        {
          "output_type": "execute_result",
          "data": {
            "text/html": [
              "<div>\n",
              "<style scoped>\n",
              "    .dataframe tbody tr th:only-of-type {\n",
              "        vertical-align: middle;\n",
              "    }\n",
              "\n",
              "    .dataframe tbody tr th {\n",
              "        vertical-align: top;\n",
              "    }\n",
              "\n",
              "    .dataframe thead th {\n",
              "        text-align: right;\n",
              "    }\n",
              "</style>\n",
              "<table border=\"1\" class=\"dataframe\">\n",
              "  <thead>\n",
              "    <tr style=\"text-align: right;\">\n",
              "      <th></th>\n",
              "      <th>Name</th>\n",
              "      <th>Date</th>\n",
              "      <th>Mobile</th>\n",
              "      <th>Mail</th>\n",
              "    </tr>\n",
              "  </thead>\n",
              "  <tbody>\n",
              "    <tr>\n",
              "      <th>100</th>\n",
              "      <td>TestDemo</td>\n",
              "      <td>29-05-2021</td>\n",
              "      <td>9000011101</td>\n",
              "      <td>teachineMachine1@you.com</td>\n",
              "    </tr>\n",
              "    <tr>\n",
              "      <th>101</th>\n",
              "      <td>*****</td>\n",
              "      <td>29-05-2021</td>\n",
              "      <td>123456789</td>\n",
              "      <td>Machine1@you.com</td>\n",
              "    </tr>\n",
              "    <tr>\n",
              "      <th>102</th>\n",
              "      <td>*****</td>\n",
              "      <td>29-05-2021</td>\n",
              "      <td>123456789</td>\n",
              "      <td>Machine2@you.com</td>\n",
              "    </tr>\n",
              "    <tr>\n",
              "      <th>103</th>\n",
              "      <td>*****</td>\n",
              "      <td>29-05-2021</td>\n",
              "      <td>123456789</td>\n",
              "      <td>Machine3@you.com</td>\n",
              "    </tr>\n",
              "    <tr>\n",
              "      <th>104</th>\n",
              "      <td>*****</td>\n",
              "      <td>29-05-2021</td>\n",
              "      <td>123456789</td>\n",
              "      <td>Machine4@you.com</td>\n",
              "    </tr>\n",
              "    <tr>\n",
              "      <th>105</th>\n",
              "      <td>*****</td>\n",
              "      <td>29-05-2021</td>\n",
              "      <td>123456789</td>\n",
              "      <td>Machine5@you.com</td>\n",
              "    </tr>\n",
              "    <tr>\n",
              "      <th>106</th>\n",
              "      <td>*****</td>\n",
              "      <td>29-05-2021</td>\n",
              "      <td>123456789</td>\n",
              "      <td>Machine6@you.com</td>\n",
              "    </tr>\n",
              "    <tr>\n",
              "      <th>107</th>\n",
              "      <td>*****</td>\n",
              "      <td>29-05-2021</td>\n",
              "      <td>123456789</td>\n",
              "      <td>Machine7@you.com</td>\n",
              "    </tr>\n",
              "  </tbody>\n",
              "</table>\n",
              "</div>"
            ],
            "text/plain": [
              "         Name        Date      Mobile                      Mail\n",
              "100  TestDemo  29-05-2021  9000011101  teachineMachine1@you.com\n",
              "101     *****  29-05-2021   123456789          Machine1@you.com\n",
              "102     *****  29-05-2021   123456789          Machine2@you.com\n",
              "103     *****  29-05-2021   123456789          Machine3@you.com\n",
              "104     *****  29-05-2021   123456789          Machine4@you.com\n",
              "105     *****  29-05-2021   123456789          Machine5@you.com\n",
              "106     *****  29-05-2021   123456789          Machine6@you.com\n",
              "107     *****  29-05-2021   123456789          Machine7@you.com"
            ]
          },
          "metadata": {
            "tags": []
          },
          "execution_count": 62
        }
      ]
    },
    {
      "cell_type": "code",
      "metadata": {
        "colab": {
          "base_uri": "https://localhost:8080/"
        },
        "id": "fRjQQoslf8Jh",
        "outputId": "5357d148-d1bc-4412-ca4f-272abd177499"
      },
      "source": [
        "len(data)"
      ],
      "execution_count": 63,
      "outputs": [
        {
          "output_type": "execute_result",
          "data": {
            "text/plain": [
              "8"
            ]
          },
          "metadata": {
            "tags": []
          },
          "execution_count": 63
        }
      ]
    },
    {
      "cell_type": "code",
      "metadata": {
        "colab": {
          "base_uri": "https://localhost:8080/",
          "height": 34
        },
        "id": "7YA1lpATgFtH",
        "outputId": "0d4e1d33-5fc0-437d-bf6d-4b1a71188531"
      },
      "source": [
        "data.iloc[1][3]"
      ],
      "execution_count": 64,
      "outputs": [
        {
          "output_type": "execute_result",
          "data": {
            "application/vnd.google.colaboratory.intrinsic+json": {
              "type": "string"
            },
            "text/plain": [
              "'Machine1@you.com'"
            ]
          },
          "metadata": {
            "tags": []
          },
          "execution_count": 64
        }
      ]
    },
    {
      "cell_type": "code",
      "metadata": {
        "id": "wX7mL6_fNSsd"
      },
      "source": [
        "for i in range(0,len(data)):\n",
        "  pushtoDB(data.iloc[i][0],data.iloc[i][2],data.iloc[i][3])"
      ],
      "execution_count": 65,
      "outputs": []
    },
    {
      "cell_type": "code",
      "metadata": {
        "id": "OGbz2eLVNaPB",
        "colab": {
          "base_uri": "https://localhost:8080/",
          "height": 359
        },
        "outputId": "7d437bc1-c745-46d2-c3b4-3b5a5f7c3cc1"
      },
      "source": [
        "db = sqlite3.connect(\"testing.db\")\n",
        "qry = \"\"\"\n",
        "\n",
        "SELECT * FROM results \n",
        "\n",
        "\"\"\"\n",
        "df = pd.read_sql_query(qry, db)\n",
        "df"
      ],
      "execution_count": 66,
      "outputs": [
        {
          "output_type": "execute_result",
          "data": {
            "text/html": [
              "<div>\n",
              "<style scoped>\n",
              "    .dataframe tbody tr th:only-of-type {\n",
              "        vertical-align: middle;\n",
              "    }\n",
              "\n",
              "    .dataframe tbody tr th {\n",
              "        vertical-align: top;\n",
              "    }\n",
              "\n",
              "    .dataframe thead th {\n",
              "        text-align: right;\n",
              "    }\n",
              "</style>\n",
              "<table border=\"1\" class=\"dataframe\">\n",
              "  <thead>\n",
              "    <tr style=\"text-align: right;\">\n",
              "      <th></th>\n",
              "      <th>Name</th>\n",
              "      <th>Date</th>\n",
              "      <th>Mobile</th>\n",
              "      <th>Mail</th>\n",
              "    </tr>\n",
              "  </thead>\n",
              "  <tbody>\n",
              "    <tr>\n",
              "      <th>0</th>\n",
              "      <td>TestDemo</td>\n",
              "      <td>29-05-2021</td>\n",
              "      <td>9000011101</td>\n",
              "      <td>teachineMachine1@you.com</td>\n",
              "    </tr>\n",
              "    <tr>\n",
              "      <th>1</th>\n",
              "      <td>Testttt</td>\n",
              "      <td>29-05-2021</td>\n",
              "      <td>121</td>\n",
              "      <td>2112</td>\n",
              "    </tr>\n",
              "    <tr>\n",
              "      <th>2</th>\n",
              "      <td>TestDemo</td>\n",
              "      <td>29-05-2021</td>\n",
              "      <td>9000011101</td>\n",
              "      <td>teachineMachine1@you.com</td>\n",
              "    </tr>\n",
              "    <tr>\n",
              "      <th>3</th>\n",
              "      <td>*****</td>\n",
              "      <td>29-05-2021</td>\n",
              "      <td>123456789</td>\n",
              "      <td>Machine1@you.com</td>\n",
              "    </tr>\n",
              "    <tr>\n",
              "      <th>4</th>\n",
              "      <td>*****</td>\n",
              "      <td>29-05-2021</td>\n",
              "      <td>123456789</td>\n",
              "      <td>Machine2@you.com</td>\n",
              "    </tr>\n",
              "    <tr>\n",
              "      <th>5</th>\n",
              "      <td>*****</td>\n",
              "      <td>29-05-2021</td>\n",
              "      <td>123456789</td>\n",
              "      <td>Machine3@you.com</td>\n",
              "    </tr>\n",
              "    <tr>\n",
              "      <th>6</th>\n",
              "      <td>*****</td>\n",
              "      <td>29-05-2021</td>\n",
              "      <td>123456789</td>\n",
              "      <td>Machine4@you.com</td>\n",
              "    </tr>\n",
              "    <tr>\n",
              "      <th>7</th>\n",
              "      <td>*****</td>\n",
              "      <td>29-05-2021</td>\n",
              "      <td>123456789</td>\n",
              "      <td>Machine5@you.com</td>\n",
              "    </tr>\n",
              "    <tr>\n",
              "      <th>8</th>\n",
              "      <td>*****</td>\n",
              "      <td>29-05-2021</td>\n",
              "      <td>123456789</td>\n",
              "      <td>Machine6@you.com</td>\n",
              "    </tr>\n",
              "    <tr>\n",
              "      <th>9</th>\n",
              "      <td>*****</td>\n",
              "      <td>29-05-2021</td>\n",
              "      <td>123456789</td>\n",
              "      <td>Machine7@you.com</td>\n",
              "    </tr>\n",
              "  </tbody>\n",
              "</table>\n",
              "</div>"
            ],
            "text/plain": [
              "       Name        Date      Mobile                      Mail\n",
              "0  TestDemo  29-05-2021  9000011101  teachineMachine1@you.com\n",
              "1   Testttt  29-05-2021         121                      2112\n",
              "2  TestDemo  29-05-2021  9000011101  teachineMachine1@you.com\n",
              "3     *****  29-05-2021   123456789          Machine1@you.com\n",
              "4     *****  29-05-2021   123456789          Machine2@you.com\n",
              "5     *****  29-05-2021   123456789          Machine3@you.com\n",
              "6     *****  29-05-2021   123456789          Machine4@you.com\n",
              "7     *****  29-05-2021   123456789          Machine5@you.com\n",
              "8     *****  29-05-2021   123456789          Machine6@you.com\n",
              "9     *****  29-05-2021   123456789          Machine7@you.com"
            ]
          },
          "metadata": {
            "tags": []
          },
          "execution_count": 66
        }
      ]
    },
    {
      "cell_type": "code",
      "metadata": {
        "id": "HqvtcTvTa599",
        "colab": {
          "base_uri": "https://localhost:8080/",
          "height": 204
        },
        "outputId": "716992b9-d02b-4802-ccee-fa885ac10885"
      },
      "source": [
        "db = sqlite3.connect(\"testing.db\")\n",
        "qry = \"\"\"\n",
        "\n",
        "SELECT * FROM results WHERE Mobile = \"123456789\"\n",
        "\n",
        "\"\"\"\n",
        "df = pd.read_sql_query(qry, db)\n",
        "df.head()"
      ],
      "execution_count": 67,
      "outputs": [
        {
          "output_type": "execute_result",
          "data": {
            "text/html": [
              "<div>\n",
              "<style scoped>\n",
              "    .dataframe tbody tr th:only-of-type {\n",
              "        vertical-align: middle;\n",
              "    }\n",
              "\n",
              "    .dataframe tbody tr th {\n",
              "        vertical-align: top;\n",
              "    }\n",
              "\n",
              "    .dataframe thead th {\n",
              "        text-align: right;\n",
              "    }\n",
              "</style>\n",
              "<table border=\"1\" class=\"dataframe\">\n",
              "  <thead>\n",
              "    <tr style=\"text-align: right;\">\n",
              "      <th></th>\n",
              "      <th>Name</th>\n",
              "      <th>Date</th>\n",
              "      <th>Mobile</th>\n",
              "      <th>Mail</th>\n",
              "    </tr>\n",
              "  </thead>\n",
              "  <tbody>\n",
              "    <tr>\n",
              "      <th>0</th>\n",
              "      <td>*****</td>\n",
              "      <td>29-05-2021</td>\n",
              "      <td>123456789</td>\n",
              "      <td>Machine1@you.com</td>\n",
              "    </tr>\n",
              "    <tr>\n",
              "      <th>1</th>\n",
              "      <td>*****</td>\n",
              "      <td>29-05-2021</td>\n",
              "      <td>123456789</td>\n",
              "      <td>Machine2@you.com</td>\n",
              "    </tr>\n",
              "    <tr>\n",
              "      <th>2</th>\n",
              "      <td>*****</td>\n",
              "      <td>29-05-2021</td>\n",
              "      <td>123456789</td>\n",
              "      <td>Machine3@you.com</td>\n",
              "    </tr>\n",
              "    <tr>\n",
              "      <th>3</th>\n",
              "      <td>*****</td>\n",
              "      <td>29-05-2021</td>\n",
              "      <td>123456789</td>\n",
              "      <td>Machine4@you.com</td>\n",
              "    </tr>\n",
              "    <tr>\n",
              "      <th>4</th>\n",
              "      <td>*****</td>\n",
              "      <td>29-05-2021</td>\n",
              "      <td>123456789</td>\n",
              "      <td>Machine5@you.com</td>\n",
              "    </tr>\n",
              "  </tbody>\n",
              "</table>\n",
              "</div>"
            ],
            "text/plain": [
              "    Name        Date     Mobile              Mail\n",
              "0  *****  29-05-2021  123456789  Machine1@you.com\n",
              "1  *****  29-05-2021  123456789  Machine2@you.com\n",
              "2  *****  29-05-2021  123456789  Machine3@you.com\n",
              "3  *****  29-05-2021  123456789  Machine4@you.com\n",
              "4  *****  29-05-2021  123456789  Machine5@you.com"
            ]
          },
          "metadata": {
            "tags": []
          },
          "execution_count": 67
        }
      ]
    },
    {
      "cell_type": "markdown",
      "metadata": {
        "id": "rQinBm0IO_Dm"
      },
      "source": [
        "#Lab \n",
        "ทดลองเรียกข้อมูลที่ Mail = Machine4@you.com"
      ]
    }
  ]
}