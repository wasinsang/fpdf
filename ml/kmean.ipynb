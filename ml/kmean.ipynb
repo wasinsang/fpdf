{
  "nbformat": 4,
  "nbformat_minor": 0,
  "metadata": {
    "colab": {
      "name": "kmean.ipynb",
      "provenance": [],
      "collapsed_sections": []
    },
    "kernelspec": {
      "name": "python3",
      "display_name": "Python 3"
    }
  },
  "cells": [
    {
      "cell_type": "code",
      "metadata": {
        "id": "NW-0aLwliAQO"
      },
      "source": [
        "import numpy as np\n",
        "import pandas as pd\n",
        "import matplotlib.pyplot as plt; plt.rcdefaults()\n",
        "import numpy as np\n",
        "import matplotlib.pyplot as plt"
      ],
      "execution_count": 1,
      "outputs": []
    },
    {
      "cell_type": "markdown",
      "metadata": {
        "id": "Im4eSEN7fKJA"
      },
      "source": [
        "#Case 1"
      ]
    },
    {
      "cell_type": "code",
      "metadata": {
        "id": "EJokYmDJilub",
        "colab": {
          "base_uri": "https://localhost:8080/"
        },
        "outputId": "7de706c1-a43b-4415-f53a-a62156651fe7"
      },
      "source": [
        "!wget https://raw.githubusercontent.com/adminho/machine-learning/master/Datasets/forest_fires.csv?dl=0 -O forest_fires.csv"
      ],
      "execution_count": 2,
      "outputs": [
        {
          "output_type": "stream",
          "text": [
            "--2021-04-23 16:32:55--  https://raw.githubusercontent.com/adminho/machine-learning/master/Datasets/forest_fires.csv?dl=0\n",
            "Resolving raw.githubusercontent.com (raw.githubusercontent.com)... 185.199.108.133, 185.199.109.133, 185.199.110.133, ...\n",
            "Connecting to raw.githubusercontent.com (raw.githubusercontent.com)|185.199.108.133|:443... connected.\n",
            "HTTP request sent, awaiting response... 200 OK\n",
            "Length: 189 [text/plain]\n",
            "Saving to: ‘forest_fires.csv’\n",
            "\n",
            "forest_fires.csv    100%[===================>]     189  --.-KB/s    in 0s      \n",
            "\n",
            "2021-04-23 16:32:55 (14.0 MB/s) - ‘forest_fires.csv’ saved [189/189]\n",
            "\n"
          ],
          "name": "stdout"
        }
      ]
    },
    {
      "cell_type": "code",
      "metadata": {
        "id": "uvvz1faoihmQ",
        "colab": {
          "base_uri": "https://localhost:8080/",
          "height": 204
        },
        "outputId": "3c050e99-d04d-46f8-c6b6-ede36ce8f0af"
      },
      "source": [
        "df = pd.read_csv(\"forest_fires.csv\")\n",
        "df.head()"
      ],
      "execution_count": 3,
      "outputs": [
        {
          "output_type": "execute_result",
          "data": {
            "text/html": [
              "<div>\n",
              "<style scoped>\n",
              "    .dataframe tbody tr th:only-of-type {\n",
              "        vertical-align: middle;\n",
              "    }\n",
              "\n",
              "    .dataframe tbody tr th {\n",
              "        vertical-align: top;\n",
              "    }\n",
              "\n",
              "    .dataframe thead th {\n",
              "        text-align: right;\n",
              "    }\n",
              "</style>\n",
              "<table border=\"1\" class=\"dataframe\">\n",
              "  <thead>\n",
              "    <tr style=\"text-align: right;\">\n",
              "      <th></th>\n",
              "      <th>Temperature</th>\n",
              "      <th>Humidity</th>\n",
              "      <th>Fires</th>\n",
              "    </tr>\n",
              "  </thead>\n",
              "  <tbody>\n",
              "    <tr>\n",
              "      <th>0</th>\n",
              "      <td>22.8</td>\n",
              "      <td>40</td>\n",
              "      <td>No</td>\n",
              "    </tr>\n",
              "    <tr>\n",
              "      <th>1</th>\n",
              "      <td>29.6</td>\n",
              "      <td>27</td>\n",
              "      <td>Yes</td>\n",
              "    </tr>\n",
              "    <tr>\n",
              "      <th>2</th>\n",
              "      <td>17.8</td>\n",
              "      <td>51</td>\n",
              "      <td>No</td>\n",
              "    </tr>\n",
              "    <tr>\n",
              "      <th>3</th>\n",
              "      <td>19.3</td>\n",
              "      <td>38</td>\n",
              "      <td>No</td>\n",
              "    </tr>\n",
              "    <tr>\n",
              "      <th>4</th>\n",
              "      <td>28.6</td>\n",
              "      <td>27</td>\n",
              "      <td>Yes</td>\n",
              "    </tr>\n",
              "  </tbody>\n",
              "</table>\n",
              "</div>"
            ],
            "text/plain": [
              "   Temperature  Humidity Fires\n",
              "0         22.8        40    No\n",
              "1         29.6        27   Yes\n",
              "2         17.8        51    No\n",
              "3         19.3        38    No\n",
              "4         28.6        27   Yes"
            ]
          },
          "metadata": {
            "tags": []
          },
          "execution_count": 3
        }
      ]
    },
    {
      "cell_type": "code",
      "metadata": {
        "colab": {
          "base_uri": "https://localhost:8080/"
        },
        "id": "meL8COyBD9bK",
        "outputId": "d7db2062-9531-41de-a3c7-35d5005038fd"
      },
      "source": [
        "df.isnull().sum()"
      ],
      "execution_count": 4,
      "outputs": [
        {
          "output_type": "execute_result",
          "data": {
            "text/plain": [
              "Temperature    0\n",
              "Humidity       0\n",
              "Fires          0\n",
              "dtype: int64"
            ]
          },
          "metadata": {
            "tags": []
          },
          "execution_count": 4
        }
      ]
    },
    {
      "cell_type": "code",
      "metadata": {
        "colab": {
          "base_uri": "https://localhost:8080/"
        },
        "id": "UvXXtAiqU5wU",
        "outputId": "e1751c5f-dfdf-46c6-e7ce-94a08daf333c"
      },
      "source": [
        "df.shape"
      ],
      "execution_count": 5,
      "outputs": [
        {
          "output_type": "execute_result",
          "data": {
            "text/plain": [
              "(13, 3)"
            ]
          },
          "metadata": {
            "tags": []
          },
          "execution_count": 5
        }
      ]
    },
    {
      "cell_type": "code",
      "metadata": {
        "id": "8-pOqSoliveK",
        "colab": {
          "base_uri": "https://localhost:8080/",
          "height": 350
        },
        "outputId": "e2b35fc1-ee91-40cf-ec36-3964c0de7f55"
      },
      "source": [
        "plt.figure(figsize=(12, 5))\n",
        "plt.title(\"Unkwon\")\n",
        "plt.xlabel('Temperature')\t\n",
        "plt.ylabel('Humidity')\n",
        "plt.axis(\"equal\")\n",
        "\n",
        "plt.scatter(df.Temperature, df.Humidity, c='k', label='no files');\n"
      ],
      "execution_count": 6,
      "outputs": [
        {
          "output_type": "display_data",
          "data": {
            "image/png": "[encoded data removed]",
            "text/plain": [
              "<Figure size 864x360 with 1 Axes>"
            ]
          },
          "metadata": {
            "tags": [],
            "needs_background": "light"
          }
        }
      ]
    },
    {
      "cell_type": "markdown",
      "metadata": {
        "id": "lsEDSiSpRYma"
      },
      "source": [
        "=============================================="
      ]
    },
    {
      "cell_type": "code",
      "metadata": {
        "id": "Y6LC9ZmGRRYM"
      },
      "source": [
        "from sklearn.cluster import KMeans\n",
        "import numpy as np"
      ],
      "execution_count": 7,
      "outputs": []
    },
    {
      "cell_type": "code",
      "metadata": {
        "id": "dOzK4GZdRowM"
      },
      "source": [
        "data = df[['Temperature', 'Humidity']]"
      ],
      "execution_count": 8,
      "outputs": []
    },
    {
      "cell_type": "markdown",
      "metadata": {
        "id": "2RGARaTBP8qd"
      },
      "source": [
        "- กำหนดจำนวนกลุ่มที่ต้องการจัดกลุ่มของข้อมูล แทนค่าด้วย K ในตัวแปร  *n_clusters*"
      ]
    },
    {
      "cell_type": "code",
      "metadata": {
        "colab": {
          "base_uri": "https://localhost:8080/"
        },
        "id": "MIAPGqYkYF4f",
        "outputId": "f99acf0d-b843-4198-df80-b5fb0a8b6fef"
      },
      "source": [
        "kmeans = KMeans(n_clusters=3, random_state=0).fit(data)\n",
        "\n",
        "print(\"Labels : \",  kmeans.labels_)\n",
        "print(\"Center :\", kmeans.cluster_centers_ )"
      ],
      "execution_count": 9,
      "outputs": [
        {
          "output_type": "stream",
          "text": [
            "Labels :  [2 0 1 2 0 1 0 1 0 0 1 0 2]\n",
            "Center : [[25.88333333 26.5       ]\n",
            " [18.35       50.25      ]\n",
            " [20.8        41.        ]]\n"
          ],
          "name": "stdout"
        }
      ]
    },
    {
      "cell_type": "markdown",
      "metadata": {
        "id": "UGy1DMByVaQC"
      },
      "source": [
        "#แสดงผลกลุ่ม"
      ]
    },
    {
      "cell_type": "code",
      "metadata": {
        "id": "u-lLI_kjjYV1"
      },
      "source": [
        "# ฟังก์ชันหาระยะทาง\n",
        "def get_distance(X, Y, pointX, pointY):\n",
        "  distance = np.sqrt( (X  - pointX)**2 + (Y - pointY)**2 )\n",
        "  return np.sort(distance)"
      ],
      "execution_count": 10,
      "outputs": []
    },
    {
      "cell_type": "code",
      "metadata": {
        "id": "BEJfQ_dWSEP4"
      },
      "source": [
        "group1 = df[kmeans.labels_ == 0]\n",
        "group2 = df[kmeans.labels_ == 1]\n",
        "group3 = df[kmeans.labels_ == 2]"
      ],
      "execution_count": 11,
      "outputs": []
    },
    {
      "cell_type": "code",
      "metadata": {
        "id": "UjkhFGTOSLur"
      },
      "source": [
        "cx1, cy1 = kmeans.cluster_centers_[0]\n",
        "distance1 = get_distance(group1.Temperature, group1.Humidity, cx1, cy1)\n",
        "radius1 = max(distance1)\n",
        "\n",
        "cx2, cy2 = kmeans.cluster_centers_[1]\n",
        "distance2 = get_distance(group2.Temperature, group2.Humidity, cx2, cy2)\n",
        "radius2 = max(distance2)\n",
        "\n",
        "cx3, cy3 = kmeans.cluster_centers_[2]\n",
        "distance3 = get_distance(group3.Temperature, group3.Humidity, cx3, cy3)\n",
        "radius3 = max(distance3)"
      ],
      "execution_count": 12,
      "outputs": []
    },
    {
      "cell_type": "code",
      "metadata": {
        "id": "I8sLzQK8jdFQ",
        "colab": {
          "base_uri": "https://localhost:8080/",
          "height": 350
        },
        "outputId": "a199d12d-d0ae-4799-8f28-7413baff41a7"
      },
      "source": [
        "plt.figure(figsize=(12, 5))\n",
        "\n",
        "plt.title(\"Is fires?\")\n",
        "plt.xlabel('X')\t\n",
        "plt.ylabel('Y')\n",
        "\n",
        "plt.axis(\"equal\")\n",
        "\n",
        "circle1=plt.Circle((cx1, cy1), radius1, alpha=0.2, lw=1, color='g')\n",
        "plt.gcf().gca().add_artist(circle1)\n",
        "\n",
        "circle2=plt.Circle((cx2, cy2), radius2, alpha=0.2, lw=1, color='r')\n",
        "plt.gcf().gca().add_artist(circle2)\n",
        "\n",
        "circle3=plt.Circle((cx3, cy3), radius3, alpha=0.2, lw=1, color='b')\n",
        "plt.gcf().gca().add_artist(circle3)\n",
        "\n",
        "\n",
        "plt.scatter(group1.Temperature, group1.Humidity, c='k', label='group 1')\n",
        "plt.scatter(group2.Temperature, group2.Humidity, c='k', label='group 2')\n",
        "plt.scatter(group3.Temperature, group3.Humidity, c='k', label='group 3')\n",
        "\n",
        "plt.scatter(cx1, cy1, s=100, c='g', marker='+', label='center1')\n",
        "plt.scatter(cx2, cy2, s=100, c='r', marker='+', label='center2')\n",
        "plt.scatter(cx3, cy3, s=100, c='b', marker='+', label='center3')\n",
        "\n",
        "plt.legend(loc='upper right')\n",
        "plt.show()"
      ],
      "execution_count": 13,
      "outputs": [
        {
          "output_type": "display_data",
          "data": {
            "image/png": "[encoded data removed]",
            "text/plain": [
              "<Figure size 864x360 with 1 Axes>"
            ]
          },
          "metadata": {
            "tags": [],
            "needs_background": "light"
          }
        }
      ]
    },
    {
      "cell_type": "markdown",
      "metadata": {
        "id": "u8m4dbQgSZV8"
      },
      "source": [
        "#พยากรณ์จุดใหม่"
      ]
    },
    {
      "cell_type": "code",
      "metadata": {
        "colab": {
          "base_uri": "https://localhost:8080/"
        },
        "id": "_gLWezXvYmhV",
        "outputId": "c95ffcf0-033e-4954-f60b-652185586ce5"
      },
      "source": [
        "newpoint = [[14, 15], [22, 36], [25, 55]]\n",
        "pred = kmeans.predict(newpoint)\n",
        "\n",
        "print(pred)"
      ],
      "execution_count": 14,
      "outputs": [
        {
          "output_type": "stream",
          "text": [
            "[0 2 1]\n"
          ],
          "name": "stdout"
        }
      ]
    },
    {
      "cell_type": "code",
      "metadata": {
        "colab": {
          "base_uri": "https://localhost:8080/",
          "height": 350
        },
        "id": "w-pmdwhJa232",
        "outputId": "7cc510f0-397d-4fc3-dd61-4277e3a17d2f"
      },
      "source": [
        "plt.figure(figsize=(12, 5))\n",
        "\n",
        "plt.title(\"Is fires?\")\n",
        "plt.xlabel('X')\t\n",
        "plt.ylabel('Y')\n",
        "\n",
        "plt.axis(\"equal\")\n",
        "\n",
        "circle1=plt.Circle((cx1, cy1), radius1, alpha=0.2, lw=1, color='g')\n",
        "plt.gcf().gca().add_artist(circle1)\n",
        "\n",
        "circle2=plt.Circle((cx2, cy2), radius2, alpha=0.2, lw=1, color='r')\n",
        "plt.gcf().gca().add_artist(circle2)\n",
        "\n",
        "circle3=plt.Circle((cx3, cy3), radius3, alpha=0.2, lw=1, color='b')\n",
        "plt.gcf().gca().add_artist(circle3)\n",
        "\n",
        "\n",
        "plt.scatter(group1.Temperature, group1.Humidity, c='g', label='group 1')\n",
        "plt.scatter(group2.Temperature, group2.Humidity, c='r', label='group 2')\n",
        "plt.scatter(group3.Temperature, group3.Humidity, c='b', label='group 3')\n",
        "\n",
        "plt.scatter(cx1, cy1, s=100, c='g', marker='1', label='center1')\n",
        "plt.scatter(cx2, cy2, s=100, c='r', marker='2', label='center2')\n",
        "plt.scatter(cx3, cy3, s=100, c='b', marker='3', label='center3')\n",
        "\n",
        "plt.scatter(newpoint[0][0],newpoint[0][1], s=100, c='r', marker='*', label='new1')\n",
        "plt.scatter(newpoint[1][0],newpoint[1][1], s=100, c='g', marker='*', label='new2')\n",
        "plt.scatter(newpoint[2][0],newpoint[2][1], s=100, c='b', marker='*', label='new3')\n",
        "\n",
        "plt.legend(loc='upper right')\n",
        "plt.show()"
      ],
      "execution_count": 15,
      "outputs": [
        {
          "output_type": "display_data",
          "data": {
            "image/png": "[encoded data removed]",
            "text/plain": [
              "<Figure size 864x360 with 1 Axes>"
            ]
          },
          "metadata": {
            "tags": [],
            "needs_background": "light"
          }
        }
      ]
    },
    {
      "cell_type": "markdown",
      "metadata": {
        "id": "rbiw1OF4fOpv"
      },
      "source": [
        "#Case 2"
      ]
    },
    {
      "cell_type": "markdown",
      "metadata": {
        "id": "t730HIUJdNhj"
      },
      "source": [
        "#หาจำนวนกลุ่มที่ดีที่สุด\n",
        "ใช้ข้อมูลตัวอย่างใน sample_data (เหมือน regression)"
      ]
    },
    {
      "cell_type": "code",
      "metadata": {
        "id": "l6VsYgaEbOo8"
      },
      "source": [
        "df2 = pd.read_csv (r'/content/sample_data/california_housing_train.csv')"
      ],
      "execution_count": 16,
      "outputs": []
    },
    {
      "cell_type": "code",
      "metadata": {
        "colab": {
          "base_uri": "https://localhost:8080/",
          "height": 204
        },
        "id": "nl6zzQx5frpZ",
        "outputId": "664eed9a-56fc-4dc2-9ce6-403447f466e5"
      },
      "source": [
        "df2.head(5)"
      ],
      "execution_count": 17,
      "outputs": [
        {
          "output_type": "execute_result",
          "data": {
            "text/html": [
              "<div>\n",
              "<style scoped>\n",
              "    .dataframe tbody tr th:only-of-type {\n",
              "        vertical-align: middle;\n",
              "    }\n",
              "\n",
              "    .dataframe tbody tr th {\n",
              "        vertical-align: top;\n",
              "    }\n",
              "\n",
              "    .dataframe thead th {\n",
              "        text-align: right;\n",
              "    }\n",
              "</style>\n",
              "<table border=\"1\" class=\"dataframe\">\n",
              "  <thead>\n",
              "    <tr style=\"text-align: right;\">\n",
              "      <th></th>\n",
              "      <th>longitude</th>\n",
              "      <th>latitude</th>\n",
              "      <th>housing_median_age</th>\n",
              "      <th>total_rooms</th>\n",
              "      <th>total_bedrooms</th>\n",
              "      <th>population</th>\n",
              "      <th>households</th>\n",
              "      <th>median_income</th>\n",
              "      <th>median_house_value</th>\n",
              "    </tr>\n",
              "  </thead>\n",
              "  <tbody>\n",
              "    <tr>\n",
              "      <th>0</th>\n",
              "      <td>-114.31</td>\n",
              "      <td>34.19</td>\n",
              "      <td>15.0</td>\n",
              "      <td>5612.0</td>\n",
              "      <td>1283.0</td>\n",
              "      <td>1015.0</td>\n",
              "      <td>472.0</td>\n",
              "      <td>1.4936</td>\n",
              "      <td>66900.0</td>\n",
              "    </tr>\n",
              "    <tr>\n",
              "      <th>1</th>\n",
              "      <td>-114.47</td>\n",
              "      <td>34.40</td>\n",
              "      <td>19.0</td>\n",
              "      <td>7650.0</td>\n",
              "      <td>1901.0</td>\n",
              "      <td>1129.0</td>\n",
              "      <td>463.0</td>\n",
              "      <td>1.8200</td>\n",
              "      <td>80100.0</td>\n",
              "    </tr>\n",
              "    <tr>\n",
              "      <th>2</th>\n",
              "      <td>-114.56</td>\n",
              "      <td>33.69</td>\n",
              "      <td>17.0</td>\n",
              "      <td>720.0</td>\n",
              "      <td>174.0</td>\n",
              "      <td>333.0</td>\n",
              "      <td>117.0</td>\n",
              "      <td>1.6509</td>\n",
              "      <td>85700.0</td>\n",
              "    </tr>\n",
              "    <tr>\n",
              "      <th>3</th>\n",
              "      <td>-114.57</td>\n",
              "      <td>33.64</td>\n",
              "      <td>14.0</td>\n",
              "      <td>1501.0</td>\n",
              "      <td>337.0</td>\n",
              "      <td>515.0</td>\n",
              "      <td>226.0</td>\n",
              "      <td>3.1917</td>\n",
              "      <td>73400.0</td>\n",
              "    </tr>\n",
              "    <tr>\n",
              "      <th>4</th>\n",
              "      <td>-114.57</td>\n",
              "      <td>33.57</td>\n",
              "      <td>20.0</td>\n",
              "      <td>1454.0</td>\n",
              "      <td>326.0</td>\n",
              "      <td>624.0</td>\n",
              "      <td>262.0</td>\n",
              "      <td>1.9250</td>\n",
              "      <td>65500.0</td>\n",
              "    </tr>\n",
              "  </tbody>\n",
              "</table>\n",
              "</div>"
            ],
            "text/plain": [
              "   longitude  latitude  ...  median_income  median_house_value\n",
              "0    -114.31     34.19  ...         1.4936             66900.0\n",
              "1    -114.47     34.40  ...         1.8200             80100.0\n",
              "2    -114.56     33.69  ...         1.6509             85700.0\n",
              "3    -114.57     33.64  ...         3.1917             73400.0\n",
              "4    -114.57     33.57  ...         1.9250             65500.0\n",
              "\n",
              "[5 rows x 9 columns]"
            ]
          },
          "metadata": {
            "tags": []
          },
          "execution_count": 17
        }
      ]
    },
    {
      "cell_type": "code",
      "metadata": {
        "colab": {
          "base_uri": "https://localhost:8080/"
        },
        "id": "L8v3RUUEfx_Y",
        "outputId": "29d0b106-e7e0-4398-db61-bd13a47873f4"
      },
      "source": [
        "dfk = df2[['longitude','latitude']]\n",
        "\n",
        "dfk = dfk.iloc[0:100,]\n",
        "\n",
        "dfk.shape"
      ],
      "execution_count": 18,
      "outputs": [
        {
          "output_type": "execute_result",
          "data": {
            "text/plain": [
              "(100, 2)"
            ]
          },
          "metadata": {
            "tags": []
          },
          "execution_count": 18
        }
      ]
    },
    {
      "cell_type": "code",
      "metadata": {
        "colab": {
          "base_uri": "https://localhost:8080/",
          "height": 419
        },
        "id": "M0-Sj2QcgDd9",
        "outputId": "f696682a-8ed4-40be-8205-0c7e50572dc4"
      },
      "source": [
        "dfk"
      ],
      "execution_count": 19,
      "outputs": [
        {
          "output_type": "execute_result",
          "data": {
            "text/html": [
              "<div>\n",
              "<style scoped>\n",
              "    .dataframe tbody tr th:only-of-type {\n",
              "        vertical-align: middle;\n",
              "    }\n",
              "\n",
              "    .dataframe tbody tr th {\n",
              "        vertical-align: top;\n",
              "    }\n",
              "\n",
              "    .dataframe thead th {\n",
              "        text-align: right;\n",
              "    }\n",
              "</style>\n",
              "<table border=\"1\" class=\"dataframe\">\n",
              "  <thead>\n",
              "    <tr style=\"text-align: right;\">\n",
              "      <th></th>\n",
              "      <th>longitude</th>\n",
              "      <th>latitude</th>\n",
              "    </tr>\n",
              "  </thead>\n",
              "  <tbody>\n",
              "    <tr>\n",
              "      <th>0</th>\n",
              "      <td>-114.31</td>\n",
              "      <td>34.19</td>\n",
              "    </tr>\n",
              "    <tr>\n",
              "      <th>1</th>\n",
              "      <td>-114.47</td>\n",
              "      <td>34.40</td>\n",
              "    </tr>\n",
              "    <tr>\n",
              "      <th>2</th>\n",
              "      <td>-114.56</td>\n",
              "      <td>33.69</td>\n",
              "    </tr>\n",
              "    <tr>\n",
              "      <th>3</th>\n",
              "      <td>-114.57</td>\n",
              "      <td>33.64</td>\n",
              "    </tr>\n",
              "    <tr>\n",
              "      <th>4</th>\n",
              "      <td>-114.57</td>\n",
              "      <td>33.57</td>\n",
              "    </tr>\n",
              "    <tr>\n",
              "      <th>...</th>\n",
              "      <td>...</td>\n",
              "      <td>...</td>\n",
              "    </tr>\n",
              "    <tr>\n",
              "      <th>95</th>\n",
              "      <td>-115.58</td>\n",
              "      <td>32.81</td>\n",
              "    </tr>\n",
              "    <tr>\n",
              "      <th>96</th>\n",
              "      <td>-115.58</td>\n",
              "      <td>32.81</td>\n",
              "    </tr>\n",
              "    <tr>\n",
              "      <th>97</th>\n",
              "      <td>-115.58</td>\n",
              "      <td>32.79</td>\n",
              "    </tr>\n",
              "    <tr>\n",
              "      <th>98</th>\n",
              "      <td>-115.58</td>\n",
              "      <td>32.78</td>\n",
              "    </tr>\n",
              "    <tr>\n",
              "      <th>99</th>\n",
              "      <td>-115.59</td>\n",
              "      <td>32.85</td>\n",
              "    </tr>\n",
              "  </tbody>\n",
              "</table>\n",
              "<p>100 rows × 2 columns</p>\n",
              "</div>"
            ],
            "text/plain": [
              "    longitude  latitude\n",
              "0     -114.31     34.19\n",
              "1     -114.47     34.40\n",
              "2     -114.56     33.69\n",
              "3     -114.57     33.64\n",
              "4     -114.57     33.57\n",
              "..        ...       ...\n",
              "95    -115.58     32.81\n",
              "96    -115.58     32.81\n",
              "97    -115.58     32.79\n",
              "98    -115.58     32.78\n",
              "99    -115.59     32.85\n",
              "\n",
              "[100 rows x 2 columns]"
            ]
          },
          "metadata": {
            "tags": []
          },
          "execution_count": 19
        }
      ]
    },
    {
      "cell_type": "code",
      "metadata": {
        "colab": {
          "base_uri": "https://localhost:8080/",
          "height": 350
        },
        "id": "FvGkY9ichT4X",
        "outputId": "a84711d7-bd73-4f62-ea26-e360580399e3"
      },
      "source": [
        "plt.figure(figsize=(12, 5))\n",
        "\n",
        "plt.title(\"Position\")\n",
        "plt.xlabel('longitude')\t\n",
        "plt.ylabel('latitude')\n",
        "\n",
        "plt.scatter(dfk['longitude'], dfk['latitude'], s=100, c='g', marker='.', label='center1')\n",
        "\n",
        "plt.show()"
      ],
      "execution_count": 20,
      "outputs": [
        {
          "output_type": "display_data",
          "data": {
            "image/png": "[encoded data removed]",
            "text/plain": [
              "<Figure size 864x360 with 1 Axes>"
            ]
          },
          "metadata": {
            "tags": [],
            "needs_background": "light"
          }
        }
      ]
    },
    {
      "cell_type": "code",
      "metadata": {
        "id": "PVvu_lIAgryt"
      },
      "source": [
        "distortions = []\n",
        "\n",
        "K = range(1,5)\n",
        "\n",
        "for k in K:\n",
        "    kmeanModel = KMeans(n_clusters=k)\n",
        "    kmeanModel.fit(dfk)\n",
        "    distortions.append(kmeanModel.inertia_)"
      ],
      "execution_count": 21,
      "outputs": []
    },
    {
      "cell_type": "code",
      "metadata": {
        "colab": {
          "base_uri": "https://localhost:8080/",
          "height": 513
        },
        "id": "o-j8vnkeg-EW",
        "outputId": "d6d4fa83-38a2-43b6-94c8-4610b08e69d0"
      },
      "source": [
        "plt.figure(figsize=(16,8))\n",
        "plt.plot(K, distortions, 'bx-')\n",
        "plt.xlabel('k')\n",
        "plt.ylabel('Distortion')\n",
        "plt.title('The Elbow Method showing the optimal k')\n",
        "plt.show()"
      ],
      "execution_count": 22,
      "outputs": [
        {
          "output_type": "display_data",
          "data": {
            "image/png": "[encoded data removed]",
            "text/plain": [
              "<Figure size 1152x576 with 1 Axes>"
            ]
          },
          "metadata": {
            "tags": [],
            "needs_background": "light"
          }
        }
      ]
    },
    {
      "cell_type": "markdown",
      "metadata": {
        "id": "Q4X219fNhLoX"
      },
      "source": [
        "สมมติว่าพึงพอใจที่จำนวน 3 กลุ่ม"
      ]
    },
    {
      "cell_type": "markdown",
      "metadata": {
        "id": "azUQuFDgp71V"
      },
      "source": [
        "#เลือกจำนวนกลุ่มและสร้างโมเดล"
      ]
    },
    {
      "cell_type": "code",
      "metadata": {
        "colab": {
          "base_uri": "https://localhost:8080/"
        },
        "id": "aZ7Yb1rChP4Q",
        "outputId": "1e371c8c-2abe-4c18-c4c9-cc4357487d06"
      },
      "source": [
        "kmeanModel = KMeans(n_clusters=3)\n",
        "kmeanModel.fit(dfk)"
      ],
      "execution_count": 23,
      "outputs": [
        {
          "output_type": "execute_result",
          "data": {
            "text/plain": [
              "KMeans(algorithm='auto', copy_x=True, init='k-means++', max_iter=300,\n",
              "       n_clusters=3, n_init=10, n_jobs=None, precompute_distances='auto',\n",
              "       random_state=None, tol=0.0001, verbose=0)"
            ]
          },
          "metadata": {
            "tags": []
          },
          "execution_count": 23
        }
      ]
    },
    {
      "cell_type": "code",
      "metadata": {
        "colab": {
          "base_uri": "https://localhost:8080/"
        },
        "id": "C2nJ2i0sjpgn",
        "outputId": "943c26a1-b004-4d56-cbdc-a7237784fdfe"
      },
      "source": [
        "print(\"Labels : \",  kmeanModel.labels_)\n",
        "print(\"Center :\", kmeanModel.cluster_centers_ )"
      ],
      "execution_count": 24,
      "outputs": [
        {
          "output_type": "stream",
          "text": [
            "Labels :  [1 1 2 2 2 2 2 1 2 1 2 2 1 1 2 1 2 2 2 2 2 2 1 2 2 0 0 0 0 0 0 0 0 0 0 0 0\n",
            " 0 0 0 0 0 0 0 0 0 0 0 0 0 1 0 0 0 0 0 0 0 0 1 0 0 0 0 0 0 0 0 0 0 0 0 0 0\n",
            " 0 0 0 0 0 0 0 0 0 0 0 0 0 0 0 0 0 0 0 0 2 0 0 0 0 0]\n",
            "Center : [[-115.51361111   32.84694444]\n",
            " [-114.783        34.649     ]\n",
            " [-114.72777778   33.49666667]]\n"
          ],
          "name": "stdout"
        }
      ]
    },
    {
      "cell_type": "code",
      "metadata": {
        "colab": {
          "base_uri": "https://localhost:8080/",
          "height": 419
        },
        "id": "Lp1f41VAmf9w",
        "outputId": "080d41be-6190-4725-c13d-1617508c910e"
      },
      "source": [
        "dfk"
      ],
      "execution_count": 25,
      "outputs": [
        {
          "output_type": "execute_result",
          "data": {
            "text/html": [
              "<div>\n",
              "<style scoped>\n",
              "    .dataframe tbody tr th:only-of-type {\n",
              "        vertical-align: middle;\n",
              "    }\n",
              "\n",
              "    .dataframe tbody tr th {\n",
              "        vertical-align: top;\n",
              "    }\n",
              "\n",
              "    .dataframe thead th {\n",
              "        text-align: right;\n",
              "    }\n",
              "</style>\n",
              "<table border=\"1\" class=\"dataframe\">\n",
              "  <thead>\n",
              "    <tr style=\"text-align: right;\">\n",
              "      <th></th>\n",
              "      <th>longitude</th>\n",
              "      <th>latitude</th>\n",
              "    </tr>\n",
              "  </thead>\n",
              "  <tbody>\n",
              "    <tr>\n",
              "      <th>0</th>\n",
              "      <td>-114.31</td>\n",
              "      <td>34.19</td>\n",
              "    </tr>\n",
              "    <tr>\n",
              "      <th>1</th>\n",
              "      <td>-114.47</td>\n",
              "      <td>34.40</td>\n",
              "    </tr>\n",
              "    <tr>\n",
              "      <th>2</th>\n",
              "      <td>-114.56</td>\n",
              "      <td>33.69</td>\n",
              "    </tr>\n",
              "    <tr>\n",
              "      <th>3</th>\n",
              "      <td>-114.57</td>\n",
              "      <td>33.64</td>\n",
              "    </tr>\n",
              "    <tr>\n",
              "      <th>4</th>\n",
              "      <td>-114.57</td>\n",
              "      <td>33.57</td>\n",
              "    </tr>\n",
              "    <tr>\n",
              "      <th>...</th>\n",
              "      <td>...</td>\n",
              "      <td>...</td>\n",
              "    </tr>\n",
              "    <tr>\n",
              "      <th>95</th>\n",
              "      <td>-115.58</td>\n",
              "      <td>32.81</td>\n",
              "    </tr>\n",
              "    <tr>\n",
              "      <th>96</th>\n",
              "      <td>-115.58</td>\n",
              "      <td>32.81</td>\n",
              "    </tr>\n",
              "    <tr>\n",
              "      <th>97</th>\n",
              "      <td>-115.58</td>\n",
              "      <td>32.79</td>\n",
              "    </tr>\n",
              "    <tr>\n",
              "      <th>98</th>\n",
              "      <td>-115.58</td>\n",
              "      <td>32.78</td>\n",
              "    </tr>\n",
              "    <tr>\n",
              "      <th>99</th>\n",
              "      <td>-115.59</td>\n",
              "      <td>32.85</td>\n",
              "    </tr>\n",
              "  </tbody>\n",
              "</table>\n",
              "<p>100 rows × 2 columns</p>\n",
              "</div>"
            ],
            "text/plain": [
              "    longitude  latitude\n",
              "0     -114.31     34.19\n",
              "1     -114.47     34.40\n",
              "2     -114.56     33.69\n",
              "3     -114.57     33.64\n",
              "4     -114.57     33.57\n",
              "..        ...       ...\n",
              "95    -115.58     32.81\n",
              "96    -115.58     32.81\n",
              "97    -115.58     32.79\n",
              "98    -115.58     32.78\n",
              "99    -115.59     32.85\n",
              "\n",
              "[100 rows x 2 columns]"
            ]
          },
          "metadata": {
            "tags": []
          },
          "execution_count": 25
        }
      ]
    },
    {
      "cell_type": "code",
      "metadata": {
        "id": "fmv7ky76mQox"
      },
      "source": [
        "group1 = dfk[kmeanModel.labels_ == 0]\n",
        "group2 = dfk[kmeanModel.labels_ == 1]\n",
        "group3 = dfk[kmeanModel.labels_ == 2]\n",
        "\n",
        "cx1, cy1 = kmeanModel.cluster_centers_[0]\n",
        "distance1 = get_distance(group1.longitude, group1.latitude, cx1, cy1)\n",
        "radius1 = max(distance1)\n",
        "\n",
        "cx2, cy2 = kmeanModel.cluster_centers_[1]\n",
        "distance2 = get_distance(group2.longitude, group2.latitude, cx2, cy2)\n",
        "radius2 = max(distance2)\n",
        "\n",
        "cx3, cy3 = kmeanModel.cluster_centers_[2]\n",
        "distance3 = get_distance(group3.longitude, group3.latitude, cx3, cy3)\n",
        "radius3 = max(distance3)"
      ],
      "execution_count": 26,
      "outputs": []
    },
    {
      "cell_type": "code",
      "metadata": {
        "colab": {
          "base_uri": "https://localhost:8080/",
          "height": 350
        },
        "id": "vl7KzYp4kntQ",
        "outputId": "11940dd6-30b3-4035-c13b-58fa7c55bed1"
      },
      "source": [
        "plt.figure(figsize=(12, 5))\n",
        "\n",
        "plt.title(\"Group of position?\")\n",
        "\n",
        "plt.xlabel('longitude')\t\n",
        "plt.ylabel('latitude')\n",
        "\n",
        "plt.axis(\"equal\")\n",
        "\n",
        "circle1=plt.Circle((cx1, cy1), radius1, alpha=0.2, lw=1, color='g')\n",
        "plt.gcf().gca().add_artist(circle1)\n",
        "\n",
        "circle2=plt.Circle((cx2, cy2), radius2, alpha=0.2, lw=1, color='r')\n",
        "plt.gcf().gca().add_artist(circle2)\n",
        "\n",
        "circle3=plt.Circle((cx3, cy3), radius3, alpha=0.2, lw=1, color='b')\n",
        "plt.gcf().gca().add_artist(circle3)\n",
        "\n",
        "\n",
        "plt.scatter(group1.longitude, group1.latitude, c='g', label='group 1')\n",
        "plt.scatter(group2.longitude, group2.latitude, c='r', label='group 2')\n",
        "plt.scatter(group3.longitude, group3.latitude, c='b', label='group 3')\n",
        "\n",
        "plt.scatter(cx1, cy1, s=100, c='g', marker='+', label='center1')\n",
        "plt.scatter(cx2, cy2, s=100, c='r', marker='+', label='center2')\n",
        "plt.scatter(cx3, cy3, s=100, c='b', marker='+', label='center3')\n",
        "\n",
        "plt.legend(loc='upper right')\n",
        "plt.show()\n"
      ],
      "execution_count": 27,
      "outputs": [
        {
          "output_type": "display_data",
          "data": {
            "image/png": "[encoded data removed]",
            "text/plain": [
              "<Figure size 864x360 with 1 Axes>"
            ]
          },
          "metadata": {
            "tags": [],
            "needs_background": "light"
          }
        }
      ]
    },
    {
      "cell_type": "markdown",
      "metadata": {
        "id": "07UMS-B_oY97"
      },
      "source": [
        "- วงกลม แสดงรัศมี เท่านั้น\n",
        "- สีจุด แสดงกลุ่ม"
      ]
    },
    {
      "cell_type": "markdown",
      "metadata": {
        "id": "GWCW7Oq3oeoQ"
      },
      "source": [
        "#LAB\n",
        "- ใน Case 2\n",
        "- ให้เพิ่มจำนวนตัวอย่าง dfk เป็น 500 รายการแรก\n",
        "- ให้เพิ่มจำนวน K เป็น 10\n",
        "- เลือกจำนวนกลุ่ม k ให้เหมาะสม\n",
        "- แสดงการแบ่งกลุ่ม"
      ]
    }
  ]
}